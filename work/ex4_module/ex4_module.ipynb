{
 "cells": [
  {
   "cell_type": "code",
   "execution_count": 1,
   "metadata": {},
   "outputs": [
    {
     "name": "stdout",
     "output_type": "stream",
     "text": [
      "math.ceil(131.23):132\n"
     ]
    }
   ],
   "source": [
    "'''\n",
    "파이썬 모듈\n",
    "\n",
    "  - date :날짜 관련 모듈\n",
    "  - time :시간 관련 모듈\n",
    "  - math :수학 관련 모듈\n",
    "  - fractions : 분수 관련 모듈\n",
    "  - decimal : 십진수 관련 모듈\n",
    "  - random : 난수 관련 모듈\n",
    "  - file : 파일 관련 모듈\n",
    "  - os : 운영체제 관련 모듈\n",
    "  - sys : 파이썬 번역기 관련 모듈\n",
    "  - threading : 스레드 관련 모듈\n",
    "  - unittest : 단위테스트 관련 모듈\n",
    "  - xml : xml문서 파싱 관련 모듈\n",
    "  - http : http프로토콜 관련 모듈\n",
    "  - sqlite3 : 데이터베이스 관련 모듈\n",
    "  ... \n",
    "'''\n",
    "import math;\n",
    "from _datetime import datetime;\n",
    "\n",
    "v1 = 131.23;\n",
    "v2 = math.ceil(v1); # 소수점을 잘라내면서 올림한 정수를 만들어 준다.\n",
    "print(\"math.ceil(131.23):{}\".format(v2));"
   ]
  },
  {
   "cell_type": "code",
   "execution_count": 2,
   "metadata": {},
   "outputs": [
    {
     "name": "stdout",
     "output_type": "stream",
     "text": [
      "현재날짜: 2022-11-09\n",
      "현재: 2022-11-09 14:12:41.898962\n"
     ]
    }
   ],
   "source": [
    "import time;\n",
    "from datetime import date, time, datetime;\n",
    "\n",
    "print(\"현재날짜:\", date.today());\n",
    "print(\"현재:\",datetime.now());\n"
   ]
  },
  {
   "cell_type": "code",
   "execution_count": 3,
   "metadata": {},
   "outputs": [
    {
     "name": "stdout",
     "output_type": "stream",
     "text": [
      "현재 위치: c:\\study\\pythonTest\\work\\ex4_module\n",
      ".project\n",
      ".pydevproject\n",
      "am\n",
      "ex4_module.ipynb\n",
      "pm\n"
     ]
    }
   ],
   "source": [
    "import os;\n",
    "\n",
    "cpath = os.getcwd(); # 현재 소스파일의 위치값\n",
    "print(\"현재 위치:\", cpath);\n",
    "\n",
    "sub_list = os.listdir(cpath);\n",
    "\n",
    "for ff in sub_list:\n",
    "    print(ff);"
   ]
  },
  {
   "cell_type": "code",
   "execution_count": 4,
   "metadata": {},
   "outputs": [
    {
     "name": "stdout",
     "output_type": "stream",
     "text": [
      "random.choice(range(1,11)): 5\n"
     ]
    }
   ],
   "source": [
    "import random;\n",
    "\n",
    "r = range(1,11);\n",
    "\n",
    "# 1~10까지의 수들 중 난수 발생\n",
    "value = random.choice(r);\n",
    "\n",
    "print(\"random.choice(range(1,11)):\",value);\n"
   ]
  },
  {
   "cell_type": "code",
   "execution_count": 5,
   "metadata": {},
   "outputs": [
    {
     "name": "stdout",
     "output_type": "stream",
     "text": [
      "lotto: {36, 41, 10, 12, 13, 23}\n"
     ]
    }
   ],
   "source": [
    "import random;\n",
    "\n",
    "# 절대 중복이 안되는 자료구조\n",
    "lotto = set();\n",
    "\n",
    "# 위의 set구조가 총 6개가 될 때까지 무한 반복을 해야 한다.\n",
    "while True:\n",
    "    value = random.choice(range(1,46));# 1~45까지의 수들 중 난수 발생\n",
    "    lotto.add(value);\n",
    "    if len(lotto) == 6: # lotto에 저장된 수가 6일 때 반복문 탈출\n",
    "        break;\n",
    "\n",
    "print(\"lotto:\", lotto);    \n"
   ]
  },
  {
   "cell_type": "code",
   "execution_count": 6,
   "metadata": {},
   "outputs": [
    {
     "name": "stdout",
     "output_type": "stream",
     "text": [
      "<person><name>마루치</name><phone>010-1212-1111</phone><addr p_no=\"08912\">서울</addr></person>\n"
     ]
    }
   ],
   "source": [
    "'''\n",
    "xml문서를 메모리상에 생성한 후 실제 문서로 만들어 보자!\n",
    "<person>\n",
    "    <name>마루치</name>\n",
    "    <phone>010-1212-1111</phone>\n",
    "</person>\n",
    "'''\n",
    "import os;\n",
    "from xml.etree.ElementTree import Element, dump, SubElement, ElementTree;\n",
    "\n",
    "# 필요한 엘리먼트들 모두 생성\n",
    "person = Element('person');\n",
    "name = Element('name');\n",
    "phone = Element('phone');\n",
    "\n",
    "# 문자열을 가지는 엘리먼트들에게 문자열 지정\n",
    "name.text = '마루치';\n",
    "phone.text = '010-1212-1111';\n",
    "\n",
    "# 요소(엘리머트)들 배치\n",
    "person.append(name); # 하위요소 추가\n",
    "person.append(phone);\n",
    "\n",
    "# 하위요소 추가하는 다른 방법\n",
    "SubElement(person, \"addr\", p_no='08912').text = \"서울\";\n",
    "\n",
    "dump(person); #보여주기\n",
    "\n",
    "# 여기까지는 메모리상에 존재하는 내용이며, 이제 실제로\n",
    "# 파일로 남겨보자!\n",
    "cpath = os.getcwd(); # 현재 파일의 위치\n",
    "fname = \"test6.xml\"; # 저장할 파일명\n",
    "ElementTree(person).write(\n",
    "    cpath+\"/\"+fname, encoding=\"UTF-8\", xml_declaration=True);"
   ]
  },
  {
   "cell_type": "code",
   "execution_count": 7,
   "metadata": {},
   "outputs": [
    {
     "name": "stdout",
     "output_type": "stream",
     "text": [
      "루트명:person:<Element 'person' at 0x000001CA8C9684A0>\n",
      "\tname:마루치\n",
      "\tphone:010-1212-1111\n",
      "\taddr:서울\n",
      "\t\taddr속성:p_no=08912\n"
     ]
    }
   ],
   "source": [
    "'''\n",
    "이 전에서 만든 test6.xml문서를 읽어서 파싱해 보자\n",
    "'''\n",
    "import os;\n",
    "import xml.etree.ElementTree as ET;\n",
    "\n",
    "cpath = os.getcwd();\n",
    "fname = \"test6.xml\";\n",
    "\n",
    "tree = ET.parse(cpath+\"/\"+fname); # 파싱!!\n",
    "\n",
    "root = tree.getroot(); # 루트엘리먼트 가져오기\n",
    "print(\"루트명:{}:{}\".format(root.tag,root));\n",
    "\n",
    "for sub in root:\n",
    "    print(\"\\t\"+sub.tag+\":\"+sub.text);\n",
    "    for att in sub.attrib: # 해당 요소의 속성들\n",
    "        print(\"\\t\\t\"+sub.tag+\"속성:\"+att+\"=\"+sub.get(att))"
   ]
  },
  {
   "cell_type": "code",
   "execution_count": 10,
   "metadata": {},
   "outputs": [
    {
     "name": "stdout",
     "output_type": "stream",
     "text": [
      "Collecting xmltodict\n",
      "  Downloading xmltodict-0.13.0-py2.py3-none-any.whl (10.0 kB)\n",
      "Installing collected packages: xmltodict\n",
      "Successfully installed xmltodict-0.13.0\n"
     ]
    },
    {
     "name": "stderr",
     "output_type": "stream",
     "text": [
      "\n",
      "[notice] A new release of pip available: 22.3 -> 22.3.1\n",
      "[notice] To update, run: python.exe -m pip install --upgrade pip\n"
     ]
    }
   ],
   "source": [
    "!python -m pip install xmltodict"
   ]
  },
  {
   "cell_type": "code",
   "execution_count": 11,
   "metadata": {},
   "outputs": [
    {
     "name": "stdout",
     "output_type": "stream",
     "text": [
      "<?xml version='1.0' encoding='UTF-8'?>\n",
      "<person><name>마루치</name><phone>010-1212-1111</phone><addr p_no=\"08912\">서울</addr></person>\n",
      "JSON으로 변환하기\n",
      "{\n",
      "    \"person\": {\n",
      "        \"name\": \"마루치\",\n",
      "        \"phone\": \"010-1212-1111\",\n",
      "        \"addr\": {\n",
      "            \"@p_no\": \"08912\",\n",
      "            \"#text\": \"서울\"\n",
      "        }\n",
      "    }\n",
      "}\n"
     ]
    }
   ],
   "source": [
    "'''\n",
    "pip install xmltodict\n",
    "'''\n",
    "import os;\n",
    "import json;\n",
    "import xmltodict;\n",
    "from pkg_resources._vendor.jaraco.text import indent\n",
    "\n",
    "cpath = os.getcwd();\n",
    "fname = \"test6.xml\";\n",
    "\n",
    "f = open(cpath+\"/\"+fname, \"r\", encoding='utf-8');\n",
    "xmlData = f.read();\n",
    "f.close();\n",
    "    \n",
    "print(xmlData); \n",
    "\n",
    "print('JSON으로 변환하기');\n",
    "jsonData = json.dumps(xmltodict.parse(xmlData), indent=4, ensure_ascii=False);\n",
    "print(jsonData);   \n"
   ]
  },
  {
   "cell_type": "code",
   "execution_count": 13,
   "metadata": {},
   "outputs": [
    {
     "name": "stdout",
     "output_type": "stream",
     "text": [
      "Collecting pandas\n",
      "  Downloading pandas-1.5.1-cp310-cp310-win_amd64.whl (10.4 MB)\n",
      "     ---------------------------------------- 10.4/10.4 MB 9.1 MB/s eta 0:00:00\n",
      "Requirement already satisfied: numpy in c:\\python310\\lib\\site-packages (1.23.4)\n",
      "Requirement already satisfied: python-dateutil>=2.8.1 in c:\\python310\\lib\\site-packages (from pandas) (2.8.2)\n",
      "Requirement already satisfied: pytz>=2020.1 in c:\\python310\\lib\\site-packages (from pandas) (2022.2.1)\n",
      "Requirement already satisfied: six>=1.5 in c:\\python310\\lib\\site-packages (from python-dateutil>=2.8.1->pandas) (1.16.0)\n",
      "Installing collected packages: pandas\n",
      "Successfully installed pandas-1.5.1\n"
     ]
    },
    {
     "name": "stderr",
     "output_type": "stream",
     "text": [
      "\n",
      "[notice] A new release of pip available: 22.3 -> 22.3.1\n",
      "[notice] To update, run: python.exe -m pip install --upgrade pip\n"
     ]
    }
   ],
   "source": [
    "!python -m pip install pandas numpy"
   ]
  },
  {
   "cell_type": "code",
   "execution_count": 14,
   "metadata": {},
   "outputs": [
    {
     "name": "stdout",
     "output_type": "stream",
     "text": [
      "0    96200\n",
      "1    89700\n",
      "2    94300\n",
      "3    99000\n",
      "dtype: int64\n"
     ]
    }
   ],
   "source": [
    "'''\n",
    "Window 판다스 설치\n",
    "  pip install pandas\n",
    "  \n",
    "Mac 판다스 설치\n",
    "  python3 -m pip install pandas\n",
    "  \n",
    "Pandas는 데이터를 수정하고 목적에 맞도록 가공이 가능하도록\n",
    "제공되는 라이브러리이며, 내부적으로 NumPy를 사용하고 있어서\n",
    "숫자 데이터들의 연산이 상당히 원활하다.\n",
    "\n",
    "의미 있는 정보를 추출하는 기술은 최근 들어 매우 주목 받고 있다.\n",
    "\n",
    "최근들어 분석할 데이터의 양(Volume)이 커지고,\n",
    "데이터의 입출력 속도(Velocity)가 빨라지고,\n",
    "데이터의 종류가 다양해(Variety) 지면서 데이터 분석 분야의 주목을 받게 되었다.\n",
    "\n",
    "Volume, Velocity, Variety의 세 가지 'V'를 가진 데이터를 흔히\n",
    "'빅 데이터'라고 부른다.\n",
    "\n",
    "이런 빅데이터들을 분석하는 것이 Pandas다. 그리고 Pandas를 이해하려면\n",
    "DataFrame을 이해해야 한다.\n",
    "\n",
    "즉, DataFrame이란 것은 DB로 비유하면 테이블과 같은 의미다.\n",
    "그러면 테이블은 컬럼들이 있다. 이런 컬럼에 속하는 것이 Pandas에서는\n",
    "Series라고 한다.\n",
    "'''\n",
    "import pandas as pd;\n",
    "\n",
    "ko = pd.Series([96200, 89700, 94300, 99000]);\n",
    "print(ko);"
   ]
  },
  {
   "cell_type": "code",
   "execution_count": 15,
   "metadata": {},
   "outputs": [
    {
     "name": "stdout",
     "output_type": "stream",
     "text": [
      "0    96200\n",
      "1    89700\n",
      "2    94300\n",
      "3    99000\n",
      "dtype: int64\n"
     ]
    }
   ],
   "source": [
    "import pandas as pd;\n",
    "from pandas import Series, DataFrame;\n",
    "\n",
    "ko = Series([96200, 89700, 94300, 99000]);\n",
    "print(ko);"
   ]
  },
  {
   "cell_type": "code",
   "execution_count": 16,
   "metadata": {},
   "outputs": [
    {
     "name": "stdout",
     "output_type": "stream",
     "text": [
      "02-01    5000\n",
      "02-02    2100\n",
      "02-03    3000\n",
      "02-04    7500\n",
      "dtype: int64\n",
      "------- 인덱스들만 추출 --------------\n",
      "02-01\n",
      "02-02\n",
      "02-03\n",
      "02-04\n",
      "------- 값들만 추출 --------------\n",
      "5000\n",
      "2100\n",
      "3000\n",
      "7500\n"
     ]
    }
   ],
   "source": [
    "\n",
    "from pandas import Series, DataFrame;\n",
    "\n",
    "ko = Series([5000, 2100, 3000, 7500] , \n",
    "            index=['02-01','02-02','02-03','02-04']);\n",
    "\n",
    "print(ko);\n",
    "print('------- 인덱스들만 추출 --------------');\n",
    "# 인덱스들만 추출하여 출력하자\n",
    "for idx in ko.index:\n",
    "    print(idx);\n",
    "\n",
    "\n",
    "print('------- 값들만 추출 --------------');\n",
    "for v1 in ko.values:\n",
    "    print(v1);"
   ]
  },
  {
   "cell_type": "code",
   "execution_count": 17,
   "metadata": {},
   "outputs": [
    {
     "name": "stdout",
     "output_type": "stream",
     "text": [
      "kt        40\n",
      "olleh     70\n",
      "sk       100\n",
      "dtype: int64\n"
     ]
    }
   ],
   "source": [
    "\n",
    "from pandas import Series, DataFrame;\n",
    "\n",
    "s1 = Series([20,30,60], index=['olleh', 'kt', 'sk']);\n",
    "s2 = Series([10,40,50], index=['kt', 'sk', 'olleh']);\n",
    "\n",
    "hap = s1 + s2;\n",
    "\n",
    "print(hap);"
   ]
  },
  {
   "cell_type": "code",
   "execution_count": 18,
   "metadata": {},
   "outputs": [
    {
     "name": "stdout",
     "output_type": "stream",
     "text": [
      "   col1  col2  year\n",
      "0   120   210  2022\n",
      "1   220   220  2021\n",
      "2   136   230  2020\n",
      "3   199   240  2019\n",
      "---------df.head(2)----------------\n",
      "   col1  col2  year\n",
      "0   120   210  2022\n",
      "1   220   220  2021\n",
      "---------df.tail(2)-------------\n",
      "   col1  col2  year\n",
      "2   136   230  2020\n",
      "3   199   240  2019\n",
      "-------------------------\n",
      "<class 'pandas.core.series.Series'>\n"
     ]
    }
   ],
   "source": [
    "'''\n",
    "현재 폴더안에 test_data.tsv라는 파일을 하나 만들자\n",
    "그안에 3개의 컬럼으로 값을 넣어두자!\n",
    "'''\n",
    "import pandas as pd;\n",
    "\n",
    "df = pd.read_csv('test_data.tsv', sep='\\t');#열을 탭으로 구분했다.\n",
    "# sep이 생략되었다면 구분자가 기본적으로 콤마(,)로 구분한다. 그리고\n",
    "# sep대신에 delimiter라고 해도 된다. (sep == separator라는 뜻)\n",
    "print(df);\n",
    "print('---------df.head(2)----------------');\n",
    "# 위에서 2개( top2 )를 결과로 얻기 위해서는  다음과 같이 기술한다.\n",
    "print(df.head(2));\n",
    "\n",
    "print('---------df.tail(2)-------------');\n",
    "# 밑에서 2개\n",
    "print(df.tail(2));\n",
    "\n",
    "print('-------------------------');\n",
    "print(type(df.year)); # 자료형이 뭔지 알고 싶을 때\n"
   ]
  },
  {
   "cell_type": "code",
   "execution_count": 19,
   "metadata": {},
   "outputs": [
    {
     "name": "stdout",
     "output_type": "stream",
     "text": [
      "   empno name   hire_date\n",
      "0    101  마루치  1999-11-02\n",
      "1    102  아라치  1999-01-12\n",
      "2    111   을불   198-05-25\n",
      "3    104  창조리  1999-10-26\n",
      "4    121   이도  1999-10-30\n",
      "-----------컬럼 순서 변경------------------\n",
      "  name   hire_date  empno\n",
      "0  마루치  1999-11-02    101\n",
      "1  아라치  1999-01-12    102\n",
      "2   을불   198-05-25    111\n",
      "3  창조리  1999-10-26    104\n",
      "4   이도  1999-10-30    121\n",
      "-----------리스트로 emp_list 변경------------------\n",
      "   empno ename       hdate\n",
      "0   1001   일지매  2000-02-20\n",
      "1   1002   이지매  2000-01-09\n",
      "2   1004   사지매  2000-04-23\n",
      "3   1003   삼지매  2000-11-07\n",
      "----------- DataFrame에서 행을 선택하는 법 ------------------\n",
      "empno          1002\n",
      "ename           이지매\n",
      "hdate    2000-01-09\n",
      "Name: 1, dtype: object\n",
      "----------- DataFrame에서 범위로 행을 선택하는 법 ------------------\n",
      "   empno ename       hdate\n",
      "1   1002   이지매  2000-01-09\n",
      "2   1004   사지매  2000-04-23\n",
      "3   1003   삼지매  2000-11-07\n",
      "-------- DataFrame의 인덱스로 범위를 지정하여 행을 선택하는 법\n",
      "   empno ename       hdate\n",
      "1   1002   이지매  2000-01-09\n",
      "2   1004   사지매  2000-04-23\n",
      "-------- DataFrame의 특정 시리즈에 조건을 지정하여 행을 선택하는 법\n",
      "   empno ename       hdate\n",
      "2   1004   사지매  2000-04-23\n",
      "-----------------------------------\n",
      "   empno ename       hdate\n",
      "2   1004   사지매  2000-04-23\n",
      "--- empno가 1002번 이상이고, 입사일이 2000년 3월 이후에 입사한 사원\n",
      "   empno ename       hdate\n",
      "2   1004   사지매  2000-04-23\n",
      "3   1003   삼지매  2000-11-07\n"
     ]
    }
   ],
   "source": [
    "'''\n",
    "한 사람의 정보를 우린 다음과 같이 JSON으로 표현한다.\n",
    "  {\n",
    "      'empno':101,\n",
    "      'name':'마루치',\n",
    "      'hire_date':'1999-10-01'\n",
    "  }\n",
    "'''\n",
    "import pandas as pd;\n",
    "from pandas import Series, DataFrame;\n",
    "\n",
    "emp_list = [\n",
    "  {'empno':101, 'name':'마루치', 'hire_date':'1999-11-02'},  \n",
    "  {'empno':102, 'name':'아라치', 'hire_date':'1999-01-12'},  \n",
    "  {'empno':111, 'name':'을불', 'hire_date':'198-05-25'},  \n",
    "  {'empno':104, 'name':'창조리', 'hire_date':'1999-10-26'},  \n",
    "  {'empno':121, 'name':'이도', 'hire_date':'1999-10-30'}    \n",
    "];\n",
    "\n",
    "df = DataFrame(emp_list);\n",
    "print(df);\n",
    "\n",
    "print('-----------컬럼 순서 변경------------------');\n",
    "df = df[['name', 'hire_date','empno']];\n",
    "print(df);\n",
    "\n",
    "print('-----------리스트로 emp_list 변경------------------');\n",
    "emp_list = [\n",
    "    [1001, '일지매', '2000-02-20'],\n",
    "    [1002, '이지매', '2000-01-09'],\n",
    "    [1004, '사지매', '2000-04-23'],\n",
    "    [1003, '삼지매', '2000-11-07']\n",
    "];\n",
    "\n",
    "c_name = ['empno', 'ename', 'hdate'];\n",
    "\n",
    "df = DataFrame.from_records(emp_list, columns=c_name);\n",
    "print(df);\n",
    "print('----------- DataFrame에서 행을 선택하는 법 ------------------');\n",
    "print(df.loc[1]); # 두번 째 행의 정보를 가져온다.\n",
    "print('----------- DataFrame에서 범위로 행을 선택하는 법 ------------------');\n",
    "print(df.loc[1:3]); # 두번 째 행부터 네번째 행의 정보를 가져온다.\n",
    "\n",
    "print('-------- DataFrame의 인덱스로 범위를 지정하여 행을 선택하는 법');\n",
    "print(df[1:3]);# 인덱스 값으로 행들을 선택할 수 있다. 이때\n",
    "                # 조심해야하는 것은 3번지가 포함되지 않는다는 것이다.\n",
    "\n",
    "print('-------- DataFrame의 특정 시리즈에 조건을 지정하여 행을 선택하는 법');\n",
    "#조건을 부여하여 행들을 선택하는 법\n",
    "print(df[df.empno > 1003]);\n",
    "print('-----------------------------------');\n",
    "print(df.query('empno > 1003'));\n",
    "\n",
    "print('--- empno가 1002번 이상이고, 입사일이 2000년 3월 이후에 입사한 사원');\n",
    "print(df[(df.empno >= 1002) & (df.hdate >= '2000-03-01')]);\n",
    "\n",
    "\n",
    "\n",
    "\n",
    "\n"
   ]
  }
 ],
 "metadata": {
  "kernelspec": {
   "display_name": "Python 3.10.7 64-bit",
   "language": "python",
   "name": "python3"
  },
  "language_info": {
   "codemirror_mode": {
    "name": "ipython",
    "version": 3
   },
   "file_extension": ".py",
   "mimetype": "text/x-python",
   "name": "python",
   "nbconvert_exporter": "python",
   "pygments_lexer": "ipython3",
   "version": "3.10.7"
  },
  "orig_nbformat": 4,
  "vscode": {
   "interpreter": {
    "hash": "369f2c481f4da34e4445cda3fffd2e751bd1c4d706f27375911949ba6bb62e1c"
   }
  }
 },
 "nbformat": 4,
 "nbformat_minor": 2
}
